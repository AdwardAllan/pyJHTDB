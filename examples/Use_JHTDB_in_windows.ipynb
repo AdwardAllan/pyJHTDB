{
 "cells": [
  {
   "cell_type": "markdown",
   "metadata": {},
   "source": [
    "pyJHTDB are failed to compile on windows. One alternative way might be to use [zeep](https://python-zeep.readthedocs.io/en/master/) package.    \n",
    "More details can be found at [http://test.turbulence.pha.jhu.edu/service/turbulence.asmx](http://test.turbulence.pha.jhu.edu/service/turbulence.asmx)"
   ]
  },
  {
   "cell_type": "code",
   "execution_count": 1,
   "metadata": {},
   "outputs": [
    {
     "name": "stdout",
     "output_type": "stream",
     "text": [
      "[[0.04330301 0.26989882 0.30953609]\n",
      " [0.55136145 0.26644196 0.55143142]\n",
      " [0.18038822 0.69407639 0.1385497 ]\n",
      " [0.29323826 0.38428839 0.31845546]\n",
      " [0.87714551 0.22212711 0.75334416]]\n"
     ]
    }
   ],
   "source": [
    "import zeep\n",
    "import numpy as np\n",
    "\n",
    "client = zeep.Client('http://test.turbulence.pha.jhu.edu/service/turbulence.asmx?WSDL')\n",
    "ArrayOfFloat = client.get_type('ns0:ArrayOfFloat')\n",
    "ArrayOfArrayOfFloat = client.get_type('ns0:ArrayOfArrayOfFloat')\n",
    "SpatialInterpolation = client.get_type('ns0:SpatialInterpolation')\n",
    "TemporalInterpolation = client.get_type('ns0:TemporalInterpolation')\n",
    "\n",
    "token=\"edu.jhu.pha.turbulence.testing-201406\" #replace with your own token\n",
    "\n",
    "nnp=5 #number of points\n",
    "points=np.random.rand(nnp,3)\n",
    "\n",
    "# convert to JHTDB structures\n",
    "x_coor=ArrayOfFloat(points[:,0].tolist())\n",
    "y_coor=ArrayOfFloat(points[:,1].tolist())\n",
    "z_coor=ArrayOfFloat(points[:,2].tolist())\n",
    "point=ArrayOfArrayOfFloat([x_coor,y_coor,z_coor]);\n",
    "\n",
    "print(points)"
   ]
  },
  {
   "cell_type": "markdown",
   "metadata": {},
   "source": [
    "#### In `GetData_Python`, Function_name could be  \n",
    "\n",
    "GetVelocity,            GetMagneticField,          GetVectorPotential,    \n",
    "GetVelocityGradient,    GetMagneticFieldGradient,  GetVectorPotentialGradient,    \n",
    "GetVelocityHessian,     GetMagneticHessian,        GetVectorPotentialHessian,    \n",
    "GetVelocityLaplacian,   GetMagneticFieldLaplacian, GetVectorPotentialLaplacian,    \n",
    "\n",
    "GetPressure,            GetTemperature,            GetDensity,    \n",
    "GetPressureGradient,    GetTemperatureGradient,    GetDensityGradient,    \n",
    "GetPressureHessian,     GetTemperatureHessian,     GetDensityHessian,     \n",
    "\n",
    "GetVelocityAndPressure, GetVelocityAndTemperature, GetForce, GetInvariant"
   ]
  },
  {
   "cell_type": "code",
   "execution_count": 2,
   "metadata": {},
   "outputs": [
    {
     "name": "stdout",
     "output_type": "stream",
     "text": [
      "[[ -3.555322    -2.0177238    2.885566    -3.031634     1.08202827\n",
      "    1.263689     2.67636633   1.19449687   2.60499573]\n",
      " [  9.063015    39.41201      9.581824   -15.5420218  -16.65086\n",
      "   12.1881762   -8.755374   -28.9169388    8.073001  ]\n",
      " [  3.78538179   2.43797469 -13.5845661    0.90120286  -3.36181474\n",
      "   -5.24289131  13.7902565    2.47591329  -0.44196767]\n",
      " [  1.9354825   -7.31927061  -5.513446     0.55677354   5.47382641\n",
      "   -3.92193151   9.435512    19.7658043   -7.49285936]\n",
      " [  6.72795773  -3.45526481   9.70396      7.839298     4.58286572\n",
      "    1.574099     3.225538     5.076862   -11.4413824 ]]\n"
     ]
    }
   ],
   "source": [
    "Function_name=\"GetVelocityGradient\" \n",
    "time=0.6\n",
    "number_of_component=9 # change this based on function_name, see http://turbulence.pha.jhu.edu/webquery/query.aspx\n",
    "\n",
    "result=client.service.GetData_Python(Function_name, token,\"isotropic1024coarse\", 0.6, \n",
    "                                     SpatialInterpolation(\"None_Fd4\"), TemporalInterpolation(\"None\"), point)\n",
    "result=np.array(result).reshape((-1, number_of_component))\n",
    "\n",
    "print(result)"
   ]
  },
  {
   "cell_type": "markdown",
   "metadata": {},
   "source": [
    "#### In `GetPosition_Python`, Function_name could be\n",
    "GetPosition only."
   ]
  },
  {
   "cell_type": "code",
   "execution_count": 3,
   "metadata": {},
   "outputs": [
    {
     "name": "stdout",
     "output_type": "stream",
     "text": [
      "[[0.04323319 0.15412635 0.21834722]\n",
      " [0.59860975 0.10928211 0.56112105]\n",
      " [0.10606352 0.5664194  0.10957711]\n",
      " [0.32639155 0.2539691  0.27564546]\n",
      " [0.9109745  0.21388906 0.6731475 ]]\n"
     ]
    }
   ],
   "source": [
    "Function_name=\"GetPosition\"\n",
    "startTime=0.1\n",
    "endTime=0.2\n",
    "dt=0.02\n",
    "number_of_component=3 # change this based on function_name, see http://turbulence.pha.jhu.edu/webquery/query.aspx\n",
    "\n",
    "result=client.service.GetPosition_Python(Function_name, token,\"isotropic1024coarse\", startTime, endTime, dt, \n",
    "                                         SpatialInterpolation(\"None\"), point)\n",
    "result=np.array(result).reshape((-1, number_of_component))\n",
    "print(result)"
   ]
  },
  {
   "cell_type": "markdown",
   "metadata": {},
   "source": [
    "#### In `GetFilter_Python`, Function_name could be    \n",
    "\n",
    "GetBoxFilter, GetBoxFilterSGSscalar, GetBoxFilterSGSvector,     \n",
    "GetBoxFilterSGSsymtensor, GetBoxFilterSGStensor, GetBoxFilterGradient."
   ]
  },
  {
   "cell_type": "code",
   "execution_count": 4,
   "metadata": {},
   "outputs": [
    {
     "name": "stdout",
     "output_type": "stream",
     "text": [
      "[[-0.17953077 -1.30879486  0.19406827]\n",
      " [ 0.07615118 -1.18771946 -0.6653834 ]\n",
      " [-0.63668466 -1.259746    0.18242529]\n",
      " [-0.61741746 -1.72727871 -0.10093431]\n",
      " [ 0.2955498   0.14606948 -1.02642322]]\n"
     ]
    }
   ],
   "source": [
    "Function_name=\"GetBoxFilter\" #could also be\n",
    "field=\"u\"\n",
    "time=0.6\n",
    "filterwidth=0.05\n",
    "spacing=0 #spacing is only used in GetBoxFilterGradient, but always provide it.\n",
    "number_of_component=3 # change this based on function_name, see http://turbulence.pha.jhu.edu/webquery/query.aspx\n",
    "\n",
    "result=client.service.GetFilter_Python(\"GetBoxFilter\",token,\"isotropic1024coarse\", field, \n",
    "                                       time, filterwidth, SpatialInterpolation(\"None\"), point, spacing) \n",
    "result=np.array(result).reshape((-1, number_of_component))\n",
    "print(result)"
   ]
  },
  {
   "cell_type": "code",
   "execution_count": 5,
   "metadata": {},
   "outputs": [
    {
     "name": "stdout",
     "output_type": "stream",
     "text": [
      "(8, 5, 2, 3)\n"
     ]
    }
   ],
   "source": [
    "import struct\n",
    "import base64\n",
    "\n",
    "field=\"u\"\n",
    "timestep=1\n",
    "x_start=1\n",
    "y_start=1\n",
    "z_start=1\n",
    "x_end=2\n",
    "y_end=5\n",
    "z_end=8\n",
    "x_step=1\n",
    "y_step=1\n",
    "z_step=1\n",
    "filter_width=0\n",
    "    \n",
    "result=client.service.GetAnyCutoutWeb(token,\"isotropic1024coarse\", field, timestep,\n",
    "                                       x_start, y_start, z_start, x_end, y_end, z_end,\n",
    "                                      x_step, y_step, z_step, filter_width, \"\")  # put empty string for the last parameter\n",
    "\n",
    "# transfer base64 format to numpy\n",
    "number_of_component=3 # change this based on the field\n",
    "nx=len(range(x_start, x_end+1, x_step))\n",
    "ny=len(range(y_start, y_end+1, y_step))\n",
    "nz=len(range(z_start, z_end+1, z_step))\n",
    "base64_len=int(nx*ny*nz*number_of_component)\n",
    "base64_format='<'+str(base64_len)+'f'\n",
    "\n",
    "result=struct.unpack(base64_format, result)\n",
    "result=np.array(result).reshape((nz, ny, nx, number_of_component))\n",
    "print(result.shape)  # see the shape of the result and compare it with nx, ny, nz and number of component"
   ]
  },
  {
   "cell_type": "code",
   "execution_count": null,
   "metadata": {},
   "outputs": [],
   "source": []
  }
 ],
 "metadata": {
  "kernelspec": {
   "display_name": "Python 3",
   "language": "python",
   "name": "python3"
  },
  "language_info": {
   "codemirror_mode": {
    "name": "ipython",
    "version": 3
   },
   "file_extension": ".py",
   "mimetype": "text/x-python",
   "name": "python",
   "nbconvert_exporter": "python",
   "pygments_lexer": "ipython3",
   "version": "3.6.6"
  }
 },
 "nbformat": 4,
 "nbformat_minor": 2
}
